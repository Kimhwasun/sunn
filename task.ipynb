{
 "cells": [
  {
   "cell_type": "code",
   "execution_count": 12,
   "id": "7a7f4803-a93f-47d7-a4e5-3fa6cc15a2c5",
   "metadata": {},
   "outputs": [
    {
     "name": "stdout",
     "output_type": "stream",
     "text": [
      "Customer One Items:\n",
      "Lovely Loveseat. Tufted polyester blend on wood. 32 inches high x 40 inches wide x 30 inches deep. Red or white.Luxurious Lamp. Glass and iron. 36 inches tall. Brown with cream shade.\n",
      "Customer One Total:\n",
      "333.09119999999996\n"
     ]
    }
   ],
   "source": [
    "lovely_loveseat_description=\"Lovely Loveseat. Tufted polyester blend on wood. 32 inches high x 40 inches wide x 30 inches deep. Red or white.\"\n",
    "lovely_loveseat_price=254.00\n",
    "stylish_settee_description=\"Stylish Settee. Faux leather on birch. 29.50 inches high x 54.75 inches wide x 28 inches deep. Black.\"\n",
    "stylish_settee_price=180.50\n",
    "luxurious_lamp_description=\"Luxurious Lamp. Glass and iron. 36 inches tall. Brown with cream shade.\"\n",
    "luxurious_lamp_price=52.15\n",
    "sales_tax=.088\n",
    "customer_one_total=0\n",
    "customer_one_itemization=\"\"\n",
    "\n",
    "customer_one_total=customer_one_total+lovely_loveseat_price\n",
    "customer_one_itemization=lovely_loveseat_description+luxurious_lamp_description\n",
    "customer_one_total=customer_one_total+luxurious_lamp_price\n",
    "\n",
    "customer_one_tax=customer_one_total\n",
    "\n",
    "print(\"Customer One Items:\")\n",
    "print(customer_one_itemization)\n",
    "print(\"Customer One Total:\")\n",
    "print(customer_one_total+customer_one_total*sales_tax)"
   ]
  },
  {
   "cell_type": "code",
   "execution_count": 15,
   "id": "a3004a9d-dbac-4c7e-aba6-01800a1c05e9",
   "metadata": {},
   "outputs": [
    {
     "name": "stdout",
     "output_type": "stream",
     "text": [
      "[['physics', 98], ['calculus', 97], ['poetry', 85], ['history', 88]]\n"
     ]
    }
   ],
   "source": [
    "subjects=[\"physics\", \"calculus\", \"poetry\", \"history\"]\n",
    "grades=[98,97,85,88]\n",
    "gradebook=[[\"physics\",98],[\"calculus\",97],[\"poetry\",85],[\"history\",88]]\n",
    "print(gradebook)\n"
   ]
  },
  {
   "cell_type": "code",
   "execution_count": 16,
   "id": "aa56fe13-cda5-4d80-99d1-5146417faa4d",
   "metadata": {},
   "outputs": [
    {
     "name": "stdout",
     "output_type": "stream",
     "text": [
      "[['physics', 98], ['calculus', 97], ['poetry', 85], ['history', 88], ['computer science', 100], ['visual arts', 93]]\n"
     ]
    }
   ],
   "source": [
    "gradebook.append([\"computer science\",100])\n",
    "gradebook.append([\"visual arts\", 93])\n",
    "print(gradebook)"
   ]
  },
  {
   "cell_type": "code",
   "execution_count": 18,
   "id": "d0160f0e-f5b0-4e2b-9f62-4b62946ba1f6",
   "metadata": {},
   "outputs": [
    {
     "name": "stdout",
     "output_type": "stream",
     "text": [
      "[['physics', 98], ['calculus', 97], ['poetry', 85], ['history', 88], ['computer science', 100], ['visual arts', 98], ['poetry', 'pass']]\n"
     ]
    }
   ],
   "source": [
    "gradebook.remove([\"visual arts\", 93])\n",
    "gradebook.append([\"visual arts\", 98])\n",
    "gradebook.append([\"poetry\", \"pass\"])\n",
    "print(gradebook)"
   ]
  },
  {
   "cell_type": "code",
   "execution_count": 19,
   "id": "12f2b636-dccd-4fda-87a4-b10fa0bb4f78",
   "metadata": {},
   "outputs": [
    {
     "name": "stdout",
     "output_type": "stream",
     "text": [
      "[['politics', 80], ['latin', 96], ['dance', 97], ['architecture', 65], ['physics', 98], ['calculus', 97], ['poetry', 85], ['history', 88], ['computer science', 100], ['visual arts', 98], ['poetry', 'pass']]\n"
     ]
    }
   ],
   "source": [
    "last_semester_gradebook = [[\"politics\", 80], [\"latin\", 96], [\"dance\", 97], [\"architecture\", 65]]\n",
    "full_gradebook=last_semester_gradebook+gradebook\n",
    "print(full_gradebook)"
   ]
  },
  {
   "cell_type": "code",
   "execution_count": null,
   "id": "040e03d9-7b97-441c-95d7-28de7835369c",
   "metadata": {},
   "outputs": [],
   "source": []
  }
 ],
 "metadata": {
  "kernelspec": {
   "display_name": "Python 3 (ipykernel)",
   "language": "python",
   "name": "python3"
  },
  "language_info": {
   "codemirror_mode": {
    "name": "ipython",
    "version": 3
   },
   "file_extension": ".py",
   "mimetype": "text/x-python",
   "name": "python",
   "nbconvert_exporter": "python",
   "pygments_lexer": "ipython3",
   "version": "3.9.12"
  }
 },
 "nbformat": 4,
 "nbformat_minor": 5
}
